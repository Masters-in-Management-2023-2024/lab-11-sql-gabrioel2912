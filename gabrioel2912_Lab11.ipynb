{
  "cells": [
    {
      "cell_type": "markdown",
      "metadata": {
        "id": "fzuZzWaD8UIs"
      },
      "source": [
        "# Lab Exercise: SQL Analysis with Polars\n",
        "\n",
        "In this lab, you'll practice SQL queries using Polars' built-in SQL functionality. Complete each exercise by writing the appropriate SQL query."
      ]
    },
    {
      "cell_type": "code",
      "execution_count": 2,
      "metadata": {
        "id": "r1CTJ-be8UIt",
        "colab": {
          "base_uri": "https://localhost:8080/"
        },
        "outputId": "c66d48a5-6a12-4073-b83c-f83d324e4d3d"
      },
      "outputs": [
        {
          "output_type": "stream",
          "name": "stdout",
          "text": [
            "Setup complete! Tables available:\n",
            "shape: (5, 1)\n",
            "┌──────────┐\n",
            "│ name     │\n",
            "│ ---      │\n",
            "│ str      │\n",
            "╞══════════╡\n",
            "│ airlines │\n",
            "│ airports │\n",
            "│ flights  │\n",
            "│ planes   │\n",
            "│ weather  │\n",
            "└──────────┘\n"
          ]
        },
        {
          "output_type": "stream",
          "name": "stderr",
          "text": [
            "/tmp/ipython-input-848256637.py:19: DeprecationWarning: The argument `eager_execution` for `SQLContext.__init__` is deprecated. It has been renamed to `eager`.\n",
            "  ctx = pl.SQLContext(\n"
          ]
        }
      ],
      "source": [
        "# Setup - Run this cell first\n",
        "import polars as pl\n",
        "\n",
        "# Load data\n",
        "airlines = pl.read_csv('https://raw.githubusercontent.com/philhetzel/opan5510-class11/refs/heads/main/data/nyc_airlines.csv')\n",
        "airports = pl.read_csv('https://raw.githubusercontent.com/philhetzel/opan5510-class11/refs/heads/main/data/nyc_airports.csv',null_values=[\"NA\"],\n",
        "    infer_schema_length=100_000,)\n",
        "flights = pl.read_csv('https://raw.githubusercontent.com/philhetzel/opan5510-class11/refs/heads/main/data/nyc_flights.csv',null_values=[\"NA\"],\n",
        "    infer_schema_length=100_000,)\n",
        "planes = pl.read_csv('https://raw.githubusercontent.com/philhetzel/opan5510-class11/refs/heads/main/data/nyc_planes.csv',null_values=[\"NA\"],\n",
        "    infer_schema_length=100_000,)\n",
        "weather = pl.read_csv('https://raw.githubusercontent.com/philhetzel/opan5510-class11/refs/heads/main/data/nyc_weather.csv',null_values=[\"NA\"],\n",
        "    infer_schema_length=100_000,)\n",
        "\n",
        "flights = flights.with_columns(pl.col(\"time_hour\").str.strptime(pl.Datetime))\n",
        "weather = weather.with_columns(pl.col(\"time_hour\").str.strptime(pl.Datetime))\n",
        "\n",
        "# Create SQL context\n",
        "ctx = pl.SQLContext(\n",
        "    airlines=airlines,\n",
        "    airports=airports,\n",
        "    flights=flights,\n",
        "    planes=planes,\n",
        "    weather=weather,\n",
        "    eager_execution=True\n",
        ")\n",
        "\n",
        "print(\"Setup complete! Tables available:\")\n",
        "print(ctx.execute(\"SHOW TABLES\"))"
      ]
    },
    {
      "cell_type": "markdown",
      "metadata": {
        "id": "MAq3s2Dr8UIt"
      },
      "source": [
        "## Exercise 1: Basic Queries\n",
        "\n",
        "### 1.1 Find all unique carriers in the airlines table"
      ]
    },
    {
      "cell_type": "code",
      "execution_count": 3,
      "metadata": {
        "id": "dCn6GpRZ8UIt",
        "colab": {
          "base_uri": "https://localhost:8080/"
        },
        "outputId": "fe6b0007-9993-404a-9d6f-f8ff82121bc4"
      },
      "outputs": [
        {
          "output_type": "stream",
          "name": "stdout",
          "text": [
            "shape: (16, 1)\n",
            "┌─────────┐\n",
            "│ carrier │\n",
            "│ ---     │\n",
            "│ str     │\n",
            "╞═════════╡\n",
            "│ 9E      │\n",
            "│ AA      │\n",
            "│ AS      │\n",
            "│ B6      │\n",
            "│ DL      │\n",
            "│ …       │\n",
            "│ UA      │\n",
            "│ US      │\n",
            "│ VX      │\n",
            "│ WN      │\n",
            "│ YV      │\n",
            "└─────────┘\n"
          ]
        }
      ],
      "source": [
        "# Write your SQL query here\n",
        "result = ctx.execute(\"\"\"\n",
        "    SELECT DISTINCT carrier\n",
        "    FROM airlines\n",
        "\"\"\")\n",
        "\n",
        "print(result)"
      ]
    },
    {
      "cell_type": "markdown",
      "metadata": {
        "id": "G9gOQPq48UIu"
      },
      "source": [
        "### 1.2 Find the top 10 destinations by number of flights"
      ]
    },
    {
      "cell_type": "code",
      "execution_count": 4,
      "metadata": {
        "id": "vobr9_Vy8UIu",
        "colab": {
          "base_uri": "https://localhost:8080/"
        },
        "outputId": "1a8f5891-e1b9-4222-c405-87398902b521"
      },
      "outputs": [
        {
          "output_type": "stream",
          "name": "stdout",
          "text": [
            "shape: (10, 2)\n",
            "┌──────┬───────────────────┐\n",
            "│ dest ┆ number_of_flights │\n",
            "│ ---  ┆ ---               │\n",
            "│ str  ┆ u32               │\n",
            "╞══════╪═══════════════════╡\n",
            "│ ORD  ┆ 17283             │\n",
            "│ ATL  ┆ 17215             │\n",
            "│ LAX  ┆ 16174             │\n",
            "│ BOS  ┆ 15508             │\n",
            "│ MCO  ┆ 14082             │\n",
            "│ CLT  ┆ 14064             │\n",
            "│ SFO  ┆ 13331             │\n",
            "│ FLL  ┆ 12055             │\n",
            "│ MIA  ┆ 11728             │\n",
            "│ DCA  ┆ 9705              │\n",
            "└──────┴───────────────────┘\n"
          ]
        }
      ],
      "source": [
        "# Write your SQL query here\n",
        "result = ctx.execute(\"\"\"\n",
        "    SELECT dest, COUNT(*) as number_of_flights\n",
        "    FROM flights\n",
        "    GROUP BY dest\n",
        "    ORDER BY number_of_flights DESC\n",
        "    LIMIT 10\n",
        "\"\"\")\n",
        "\n",
        "print(result)"
      ]
    },
    {
      "cell_type": "markdown",
      "metadata": {
        "id": "ZU-E8PgA8UIu"
      },
      "source": [
        "### 1.3 Find all flights that departed more than 2 hours late (120 minutes)"
      ]
    },
    {
      "cell_type": "code",
      "execution_count": 5,
      "metadata": {
        "id": "49_sTprE8UIu",
        "colab": {
          "base_uri": "https://localhost:8080/"
        },
        "outputId": "39074af6-bba6-4873-cc3c-2f1cd6944df1"
      },
      "outputs": [
        {
          "output_type": "stream",
          "name": "stdout",
          "text": [
            "shape: (9_723, 19)\n",
            "┌──────┬───────┬─────┬──────────┬───┬──────────┬──────┬────────┬─────────────────────────┐\n",
            "│ year ┆ month ┆ day ┆ dep_time ┆ … ┆ distance ┆ hour ┆ minute ┆ time_hour               │\n",
            "│ ---  ┆ ---   ┆ --- ┆ ---      ┆   ┆ ---      ┆ ---  ┆ ---    ┆ ---                     │\n",
            "│ i64  ┆ i64   ┆ i64 ┆ i64      ┆   ┆ i64      ┆ i64  ┆ i64    ┆ datetime[μs, UTC]       │\n",
            "╞══════╪═══════╪═════╪══════════╪═══╪══════════╪══════╪════════╪═════════════════════════╡\n",
            "│ 2013 ┆ 1     ┆ 1   ┆ 848      ┆ … ┆ 184      ┆ 18   ┆ 35     ┆ 2013-01-01 23:00:00 UTC │\n",
            "│ 2013 ┆ 1     ┆ 1   ┆ 957      ┆ … ┆ 200      ┆ 7    ┆ 33     ┆ 2013-01-01 12:00:00 UTC │\n",
            "│ 2013 ┆ 1     ┆ 1   ┆ 1114     ┆ … ┆ 1416     ┆ 9    ┆ 0      ┆ 2013-01-01 14:00:00 UTC │\n",
            "│ 2013 ┆ 1     ┆ 1   ┆ 1540     ┆ … ┆ 1598     ┆ 13   ┆ 38     ┆ 2013-01-01 18:00:00 UTC │\n",
            "│ 2013 ┆ 1     ┆ 1   ┆ 1815     ┆ … ┆ 1134     ┆ 13   ┆ 25     ┆ 2013-01-01 18:00:00 UTC │\n",
            "│ …    ┆ …     ┆ …   ┆ …        ┆ … ┆ …        ┆ …    ┆ …      ┆ …                       │\n",
            "│ 2013 ┆ 9     ┆ 30  ┆ 1823     ┆ … ┆ 765      ┆ 15   ┆ 45     ┆ 2013-09-30 19:00:00 UTC │\n",
            "│ 2013 ┆ 9     ┆ 30  ┆ 1951     ┆ … ┆ 708      ┆ 16   ┆ 49     ┆ 2013-09-30 20:00:00 UTC │\n",
            "│ 2013 ┆ 9     ┆ 30  ┆ 2053     ┆ … ┆ 746      ┆ 18   ┆ 15     ┆ 2013-09-30 22:00:00 UTC │\n",
            "│ 2013 ┆ 9     ┆ 30  ┆ 2159     ┆ … ┆ 301      ┆ 18   ┆ 45     ┆ 2013-09-30 22:00:00 UTC │\n",
            "│ 2013 ┆ 9     ┆ 30  ┆ 2235     ┆ … ┆ 944      ┆ 20   ┆ 1      ┆ 2013-10-01 00:00:00 UTC │\n",
            "└──────┴───────┴─────┴──────────┴───┴──────────┴──────┴────────┴─────────────────────────┘\n"
          ]
        }
      ],
      "source": [
        "# Write your SQL query here\n",
        "result = ctx.execute(\"\"\"\n",
        "    SELECT *\n",
        "    FROM flights\n",
        "    WHERE dep_delay > 120\n",
        "\"\"\")\n",
        "\n",
        "print(result)"
      ]
    },
    {
      "cell_type": "markdown",
      "metadata": {
        "id": "de5k1IJY8UIu"
      },
      "source": [
        "## Exercise 2: Aggregation\n",
        "\n",
        "### 2.1 Calculate the average departure delay for each origin airport"
      ]
    },
    {
      "cell_type": "code",
      "execution_count": 6,
      "metadata": {
        "id": "8YZ0oyXF8UIu",
        "colab": {
          "base_uri": "https://localhost:8080/"
        },
        "outputId": "c65ff597-cee0-4141-d434-54d7fca4d2a6"
      },
      "outputs": [
        {
          "output_type": "stream",
          "name": "stdout",
          "text": [
            "shape: (3, 2)\n",
            "┌────────┬───────────┐\n",
            "│ origin ┆ dep_delay │\n",
            "│ ---    ┆ ---       │\n",
            "│ str    ┆ f64       │\n",
            "╞════════╪═══════════╡\n",
            "│ JFK    ┆ 12.112159 │\n",
            "│ LGA    ┆ 10.346876 │\n",
            "│ EWR    ┆ 15.107954 │\n",
            "└────────┴───────────┘\n"
          ]
        }
      ],
      "source": [
        "# Write your SQL query here\n",
        "result = ctx.execute(\"\"\"\n",
        "SELECT origin, AVG(dep_delay)\n",
        "FROM flights\n",
        "GROUP BY origin\n",
        "\"\"\")\n",
        "\n",
        "print(result)"
      ]
    },
    {
      "cell_type": "markdown",
      "metadata": {
        "id": "X8N9XoTO8UIu"
      },
      "source": [
        "### 2.2 Find the busiest month of the year\n",
        "\n",
        "Count the number of flights per month and find which month has the most flights."
      ]
    },
    {
      "cell_type": "code",
      "execution_count": 7,
      "metadata": {
        "id": "w2G_V2hS8UIu",
        "colab": {
          "base_uri": "https://localhost:8080/"
        },
        "outputId": "b235ec53-5d62-454e-fb44-68414cae7151"
      },
      "outputs": [
        {
          "output_type": "stream",
          "name": "stdout",
          "text": [
            "shape: (5, 19)\n",
            "┌──────┬───────┬─────┬──────────┬───┬──────────┬──────┬────────┬─────────────────────────┐\n",
            "│ year ┆ month ┆ day ┆ dep_time ┆ … ┆ distance ┆ hour ┆ minute ┆ time_hour               │\n",
            "│ ---  ┆ ---   ┆ --- ┆ ---      ┆   ┆ ---      ┆ ---  ┆ ---    ┆ ---                     │\n",
            "│ i64  ┆ i64   ┆ i64 ┆ i64      ┆   ┆ i64      ┆ i64  ┆ i64    ┆ datetime[μs, UTC]       │\n",
            "╞══════╪═══════╪═════╪══════════╪═══╪══════════╪══════╪════════╪═════════════════════════╡\n",
            "│ 2013 ┆ 1     ┆ 1   ┆ 517      ┆ … ┆ 1400     ┆ 5    ┆ 15     ┆ 2013-01-01 10:00:00 UTC │\n",
            "│ 2013 ┆ 1     ┆ 1   ┆ 533      ┆ … ┆ 1416     ┆ 5    ┆ 29     ┆ 2013-01-01 10:00:00 UTC │\n",
            "│ 2013 ┆ 1     ┆ 1   ┆ 542      ┆ … ┆ 1089     ┆ 5    ┆ 40     ┆ 2013-01-01 10:00:00 UTC │\n",
            "│ 2013 ┆ 1     ┆ 1   ┆ 544      ┆ … ┆ 1576     ┆ 5    ┆ 45     ┆ 2013-01-01 10:00:00 UTC │\n",
            "│ 2013 ┆ 1     ┆ 1   ┆ 554      ┆ … ┆ 762      ┆ 6    ┆ 0      ┆ 2013-01-01 11:00:00 UTC │\n",
            "└──────┴───────┴─────┴──────────┴───┴──────────┴──────┴────────┴─────────────────────────┘\n",
            "shape: (1, 2)\n",
            "┌───────┬───────────────────┐\n",
            "│ month ┆ number_of_flights │\n",
            "│ ---   ┆ ---               │\n",
            "│ i64   ┆ u32               │\n",
            "╞═══════╪═══════════════════╡\n",
            "│ 7     ┆ 29425             │\n",
            "└───────┴───────────────────┘\n"
          ]
        }
      ],
      "source": [
        "# First, let's check what columns are available\n",
        "result = ctx.execute(\"\"\"\n",
        "    SELECT *\n",
        "    FROM flights\n",
        "    LIMIT 5\n",
        "\"\"\")\n",
        "print(result)\n",
        "\n",
        "# Now write your query to find busiest month\n",
        "result = ctx.execute(\"\"\"\n",
        "SELECT month, COUNT(*) as number_of_flights\n",
        "FROM flights\n",
        "GROUP BY month\n",
        "ORDER BY number_of_flights DESC\n",
        "LIMIT 1\n",
        "\"\"\")\n",
        "\n",
        "print(result)"
      ]
    },
    {
      "cell_type": "markdown",
      "metadata": {
        "id": "GySyGAY98UIu"
      },
      "source": [
        "### 2.3 Calculate the on-time performance rate for each carrier\n",
        "\n",
        "Consider a flight on-time if the departure delay is <= 15 minutes."
      ]
    },
    {
      "cell_type": "code",
      "execution_count": 8,
      "metadata": {
        "id": "EW3b7Jxz8UIu",
        "colab": {
          "base_uri": "https://localhost:8080/"
        },
        "outputId": "c7012da8-2481-49c1-eea1-91f280ef0f7e"
      },
      "outputs": [
        {
          "output_type": "stream",
          "name": "stdout",
          "text": [
            "shape: (16, 2)\n",
            "┌─────────┬──────────┐\n",
            "│ carrier ┆ literal  │\n",
            "│ ---     ┆ ---      │\n",
            "│ str     ┆ f64      │\n",
            "╞═════════╪══════════╡\n",
            "│ FL      ┆ 0.716871 │\n",
            "│ F9      ┆ 0.715328 │\n",
            "│ 9E      ┆ 0.701246 │\n",
            "│ US      ┆ 0.849873 │\n",
            "│ OO      ┆ 0.71875  │\n",
            "│ …       ┆ …        │\n",
            "│ HA      ┆ 0.929825 │\n",
            "│ AS      ┆ 0.865546 │\n",
            "│ AA      ┆ 0.824376 │\n",
            "│ YV      ┆ 0.647255 │\n",
            "│ WN      ┆ 0.719593 │\n",
            "└─────────┴──────────┘\n"
          ]
        }
      ],
      "source": [
        "# Write your SQL query here\n",
        "result = ctx.execute(\"\"\"\n",
        "SELECT carrier, AVG(CASE WHEN dep_delay <= 15 THEN 1 ELSE 0 END)\n",
        "FROM flights\n",
        "GROUP BY carrier\n",
        "\"\"\")\n",
        "\n",
        "print(result)"
      ]
    },
    {
      "cell_type": "markdown",
      "metadata": {
        "id": "okPtDkTE8UIu"
      },
      "source": [
        "## Exercise 3: Joins\n",
        "\n",
        "### 3.1 List all flights with their airline names (not just carrier codes)\n",
        "\n",
        "Show the first 20 flights with carrier code, airline name, flight number, origin, and destination."
      ]
    },
    {
      "cell_type": "code",
      "execution_count": 9,
      "metadata": {
        "id": "4L6sP9nE8UIu",
        "colab": {
          "base_uri": "https://localhost:8080/"
        },
        "outputId": "992f430f-d4c2-4235-a6c8-d941bc3c9c01"
      },
      "outputs": [
        {
          "output_type": "stream",
          "name": "stdout",
          "text": [
            "shape: (20, 5)\n",
            "┌─────────┬────────────────────────┬────────┬────────┬──────┐\n",
            "│ carrier ┆ name                   ┆ flight ┆ origin ┆ dest │\n",
            "│ ---     ┆ ---                    ┆ ---    ┆ ---    ┆ ---  │\n",
            "│ str     ┆ str                    ┆ i64    ┆ str    ┆ str  │\n",
            "╞═════════╪════════════════════════╪════════╪════════╪══════╡\n",
            "│ UA      ┆ United Air Lines Inc.  ┆ 1545   ┆ EWR    ┆ IAH  │\n",
            "│ UA      ┆ United Air Lines Inc.  ┆ 1714   ┆ LGA    ┆ IAH  │\n",
            "│ AA      ┆ American Airlines Inc. ┆ 1141   ┆ JFK    ┆ MIA  │\n",
            "│ B6      ┆ JetBlue Airways        ┆ 725    ┆ JFK    ┆ BQN  │\n",
            "│ DL      ┆ Delta Air Lines Inc.   ┆ 461    ┆ LGA    ┆ ATL  │\n",
            "│ …       ┆ …                      ┆ …      ┆ …      ┆ …    │\n",
            "│ B6      ┆ JetBlue Airways        ┆ 1806   ┆ JFK    ┆ BOS  │\n",
            "│ UA      ┆ United Air Lines Inc.  ┆ 1187   ┆ EWR    ┆ LAS  │\n",
            "│ B6      ┆ JetBlue Airways        ┆ 371    ┆ LGA    ┆ FLL  │\n",
            "│ MQ      ┆ Envoy Air              ┆ 4650   ┆ LGA    ┆ ATL  │\n",
            "│ B6      ┆ JetBlue Airways        ┆ 343    ┆ EWR    ┆ PBI  │\n",
            "└─────────┴────────────────────────┴────────┴────────┴──────┘\n"
          ]
        }
      ],
      "source": [
        "# Write your SQL query here\n",
        "result = ctx.execute(\"\"\"\n",
        "SELECT f.carrier, a.name, f.flight, f.origin, f.dest\n",
        "FROM flights f\n",
        "JOIN airlines a ON f.carrier = a.carrier\n",
        "LIMIT 20\n",
        "\"\"\")\n",
        "\n",
        "print(result)"
      ]
    },
    {
      "cell_type": "markdown",
      "metadata": {
        "id": "rtznFDeL8UIu"
      },
      "source": [
        "### 3.2 Find the average age of planes for each carrier\n",
        "\n",
        "Hint: The planes table has a `year` column for manufacture year. Calculate age based on 2013."
      ]
    },
    {
      "cell_type": "code",
      "execution_count": 10,
      "metadata": {
        "id": "Pxo6b_F08UIu",
        "colab": {
          "base_uri": "https://localhost:8080/"
        },
        "outputId": "8ed4412e-e674-4fcb-94bc-17c5a138de93"
      },
      "outputs": [
        {
          "output_type": "stream",
          "name": "stdout",
          "text": [
            "shape: (16, 2)\n",
            "┌─────────┬───────────┐\n",
            "│ carrier ┆ literal   │\n",
            "│ ---     ┆ ---       │\n",
            "│ str     ┆ f64       │\n",
            "╞═════════╪═══════════╡\n",
            "│ FL      ┆ 11.385829 │\n",
            "│ B6      ┆ 6.686702  │\n",
            "│ HA      ┆ 1.548387  │\n",
            "│ US      ┆ 9.103663  │\n",
            "│ WN      ┆ 9.146052  │\n",
            "│ …       ┆ …         │\n",
            "│ 9E      ┆ 7.101053  │\n",
            "│ OO      ┆ 6.84375   │\n",
            "│ VX      ┆ 4.473643  │\n",
            "│ MQ      ┆ 35.319    │\n",
            "│ UA      ┆ 13.207691 │\n",
            "└─────────┴───────────┘\n"
          ]
        }
      ],
      "source": [
        "# Write your SQL query here\n",
        "result = ctx.execute(\"\"\"\n",
        "SELECT f.carrier, AVG(2013 - p.year)\n",
        "FROM flights f\n",
        "JOIN planes p ON f.tailnum = p.tailnum\n",
        "GROUP BY f.carrier\n",
        "\"\"\")\n",
        "\n",
        "print(result)"
      ]
    },
    {
      "cell_type": "markdown",
      "metadata": {
        "id": "LViruK7t8UIu"
      },
      "source": [
        "### 3.3 Find flights that experienced both departure delays and bad weather\n",
        "\n",
        "Join flights with weather data and find flights where departure delay > 30 minutes and either wind_speed > 20 or precip > 0.1"
      ]
    },
    {
      "cell_type": "code",
      "execution_count": 11,
      "metadata": {
        "id": "ba3Uc6d18UIu",
        "colab": {
          "base_uri": "https://localhost:8080/"
        },
        "outputId": "9a988c3e-664c-4a3c-c799-d20b457c462e"
      },
      "outputs": [
        {
          "output_type": "stream",
          "name": "stdout",
          "text": [
            "shape: (5, 15)\n",
            "┌────────┬──────┬───────┬─────┬───┬────────┬──────────┬───────┬─────────────────────────┐\n",
            "│ origin ┆ year ┆ month ┆ day ┆ … ┆ precip ┆ pressure ┆ visib ┆ time_hour               │\n",
            "│ ---    ┆ ---  ┆ ---   ┆ --- ┆   ┆ ---    ┆ ---      ┆ ---   ┆ ---                     │\n",
            "│ str    ┆ i64  ┆ i64   ┆ i64 ┆   ┆ f64    ┆ f64      ┆ f64   ┆ datetime[μs, UTC]       │\n",
            "╞════════╪══════╪═══════╪═════╪═══╪════════╪══════════╪═══════╪═════════════════════════╡\n",
            "│ EWR    ┆ 2013 ┆ 1     ┆ 1   ┆ … ┆ 0.0    ┆ 1012.0   ┆ 10.0  ┆ 2013-01-01 06:00:00 UTC │\n",
            "│ EWR    ┆ 2013 ┆ 1     ┆ 1   ┆ … ┆ 0.0    ┆ 1012.3   ┆ 10.0  ┆ 2013-01-01 07:00:00 UTC │\n",
            "│ EWR    ┆ 2013 ┆ 1     ┆ 1   ┆ … ┆ 0.0    ┆ 1012.5   ┆ 10.0  ┆ 2013-01-01 08:00:00 UTC │\n",
            "│ EWR    ┆ 2013 ┆ 1     ┆ 1   ┆ … ┆ 0.0    ┆ 1012.2   ┆ 10.0  ┆ 2013-01-01 09:00:00 UTC │\n",
            "│ EWR    ┆ 2013 ┆ 1     ┆ 1   ┆ … ┆ 0.0    ┆ 1011.9   ┆ 10.0  ┆ 2013-01-01 10:00:00 UTC │\n",
            "└────────┴──────┴───────┴─────┴───┴────────┴──────────┴───────┴─────────────────────────┘\n",
            "shape: (9_292, 19)\n",
            "┌──────┬───────┬─────┬──────────┬───┬──────────┬──────┬────────┬─────────────────────────┐\n",
            "│ year ┆ month ┆ day ┆ dep_time ┆ … ┆ distance ┆ hour ┆ minute ┆ time_hour               │\n",
            "│ ---  ┆ ---   ┆ --- ┆ ---      ┆   ┆ ---      ┆ ---  ┆ ---    ┆ ---                     │\n",
            "│ i64  ┆ i64   ┆ i64 ┆ i64      ┆   ┆ i64      ┆ i64  ┆ i64    ┆ datetime[μs, UTC]       │\n",
            "╞══════╪═══════╪═════╪══════════╪═══╪══════════╪══════╪════════╪═════════════════════════╡\n",
            "│ 2013 ┆ 1     ┆ 1   ┆ 2217     ┆ … ┆ 1005     ┆ 21   ┆ 30     ┆ 2013-01-02 02:00:00 UTC │\n",
            "│ 2013 ┆ 1     ┆ 1   ┆ 2326     ┆ … ┆ 2248     ┆ 21   ┆ 30     ┆ 2013-01-02 02:00:00 UTC │\n",
            "│ 2013 ┆ 1     ┆ 4   ┆ 1238     ┆ … ┆ 820      ┆ 11   ┆ 59     ┆ 2013-01-04 16:00:00 UTC │\n",
            "│ 2013 ┆ 1     ┆ 4   ┆ 1400     ┆ … ┆ 212      ┆ 13   ┆ 20     ┆ 2013-01-04 18:00:00 UTC │\n",
            "│ 2013 ┆ 1     ┆ 4   ┆ 1455     ┆ … ┆ 187      ┆ 14   ┆ 22     ┆ 2013-01-04 19:00:00 UTC │\n",
            "│ …    ┆ …     ┆ …   ┆ …        ┆ … ┆ …        ┆ …    ┆ …      ┆ …                       │\n",
            "│ 2013 ┆ 9     ┆ 22  ┆ 1540     ┆ … ┆ 762      ┆ 14   ┆ 59     ┆ 2013-09-22 18:00:00 UTC │\n",
            "│ 2013 ┆ 9     ┆ 22  ┆ 1957     ┆ … ┆ 335      ┆ 18   ┆ 20     ┆ 2013-09-22 22:00:00 UTC │\n",
            "│ 2013 ┆ 9     ┆ 22  ┆ 2104     ┆ … ┆ 2153     ┆ 20   ┆ 22     ┆ 2013-09-23 00:00:00 UTC │\n",
            "│ 2013 ┆ 9     ┆ 22  ┆ 2111     ┆ … ┆ 2475     ┆ 20   ┆ 25     ┆ 2013-09-23 00:00:00 UTC │\n",
            "│ 2013 ┆ 9     ┆ 22  ┆ 2130     ┆ … ┆ 187      ┆ 20   ┆ 45     ┆ 2013-09-23 00:00:00 UTC │\n",
            "└──────┴───────┴─────┴──────────┴───┴──────────┴──────┴────────┴─────────────────────────┘\n"
          ]
        }
      ],
      "source": [
        "# First, explore the weather table structure\n",
        "result = ctx.execute(\"\"\"\n",
        "    SELECT *\n",
        "    FROM weather\n",
        "    LIMIT 5\n",
        "\"\"\")\n",
        "print(result)\n",
        "\n",
        "# Now write your join query\n",
        "result = ctx.execute(\"\"\"\n",
        "SELECT f.*\n",
        "FROM flights f\n",
        "JOIN weather w ON f.origin = w.origin AND f.time_hour = w.time_hour\n",
        "WHERE f.dep_delay > 30 AND (w.wind_speed > 20 OR w.precip > 0)\n",
        "\"\"\")\n",
        "\n",
        "print(result)"
      ]
    },
    {
      "cell_type": "markdown",
      "metadata": {
        "id": "9AbjM9PV8UIv"
      },
      "source": [
        "## Exercise 4: Advanced Queries\n",
        "\n",
        "### 4.1 Find the most popular aircraft types (by number of flights)\n",
        "\n",
        "Join flights with planes to get manufacturer and model information. Show top 10."
      ]
    },
    {
      "cell_type": "code",
      "execution_count": 12,
      "metadata": {
        "id": "0euZMZBH8UIv",
        "colab": {
          "base_uri": "https://localhost:8080/"
        },
        "outputId": "1dd9e419-5c22-45ac-990c-9857298c03ba"
      },
      "outputs": [
        {
          "output_type": "stream",
          "name": "stdout",
          "text": [
            "shape: (10, 3)\n",
            "┌───────────────────────────────┬─────────────────┬───────────────────┐\n",
            "│ manufacturer                  ┆ model           ┆ number_of_flights │\n",
            "│ ---                           ┆ ---             ┆ ---               │\n",
            "│ str                           ┆ str             ┆ u32               │\n",
            "╞═══════════════════════════════╪═════════════════╪═══════════════════╡\n",
            "│ AIRBUS                        ┆ A320-232        ┆ 31278             │\n",
            "│ EMBRAER                       ┆ EMB-145LR       ┆ 28027             │\n",
            "│ EMBRAER                       ┆ ERJ 190-100 IGW ┆ 23716             │\n",
            "│ AIRBUS INDUSTRIE              ┆ A320-232        ┆ 14553             │\n",
            "│ EMBRAER                       ┆ EMB-145XR       ┆ 14051             │\n",
            "│ BOEING                        ┆ 737-824         ┆ 13809             │\n",
            "│ BOMBARDIER INC                ┆ CL-600-2D24     ┆ 11807             │\n",
            "│ BOEING                        ┆ 737-7H4         ┆ 10389             │\n",
            "│ BOEING                        ┆ 757-222         ┆ 9150              │\n",
            "│ MCDONNELL DOUGLAS AIRCRAFT CO ┆ MD-88           ┆ 8932              │\n",
            "└───────────────────────────────┴─────────────────┴───────────────────┘\n"
          ]
        }
      ],
      "source": [
        "# Write your SQL query here\n",
        "result = ctx.execute(\"\"\"\n",
        "SELECT p.manufacturer, p.model, COUNT(*) as number_of_flights\n",
        "FROM flights f\n",
        "JOIN planes p ON f.tailnum = p.tailnum\n",
        "GROUP BY p.manufacturer, p.model\n",
        "ORDER BY number_of_flights DESC\n",
        "LIMIT 10\n",
        "\"\"\")\n",
        "\n",
        "print(result)"
      ]
    },
    {
      "cell_type": "markdown",
      "metadata": {
        "id": "eYyM1HIR8UIv"
      },
      "source": [
        "### 4.2 Analyze route performance\n",
        "\n",
        "Find the top 10 routes (origin-destination pairs) with:\n",
        "- Total number of flights\n",
        "- Average departure delay\n",
        "- Percentage of flights delayed more than 30 minutes\n",
        "\n",
        "Include airport names, not just codes."
      ]
    },
    {
      "cell_type": "code",
      "execution_count": 22,
      "metadata": {
        "id": "0EIfLiis8UIv",
        "colab": {
          "base_uri": "https://localhost:8080/"
        },
        "outputId": "15c5885c-875a-4961-e78d-5da8b1abb79b"
      },
      "outputs": [
        {
          "output_type": "stream",
          "name": "stdout",
          "text": [
            "shape: (10, 7)\n",
            "┌────────┬─────────────────┬──────┬─────────────────┬────────────────┬────────────────┬────────────┐\n",
            "│ origin ┆ o_name          ┆ dest ┆ d_name          ┆ Total_number_o ┆ average_dep_de ┆ percentage │\n",
            "│ ---    ┆ ---             ┆ ---  ┆ ---             ┆ f_flights      ┆ lay            ┆ ---        │\n",
            "│ str    ┆ str             ┆ str  ┆ str             ┆ ---            ┆ ---            ┆ u32        │\n",
            "│        ┆                 ┆      ┆                 ┆ u32            ┆ f64            ┆            │\n",
            "╞════════╪═════════════════╪══════╪═════════════════╪════════════════╪════════════════╪════════════╡\n",
            "│ JFK    ┆ John F Kennedy  ┆ LAX  ┆ Los Angeles     ┆ 11262          ┆ 8.522508       ┆ 9          │\n",
            "│        ┆ Intl            ┆      ┆ Intl            ┆                ┆                ┆            │\n",
            "│ LGA    ┆ La Guardia      ┆ ATL  ┆ Hartsfield      ┆ 10263          ┆ 11.448621      ┆ 12         │\n",
            "│        ┆                 ┆      ┆ Jackson Atlanta ┆                ┆                ┆            │\n",
            "│        ┆                 ┆      ┆ Int…            ┆                ┆                ┆            │\n",
            "│ LGA    ┆ La Guardia      ┆ ORD  ┆ Chicago Ohare   ┆ 8857           ┆ 10.740758      ┆ 13         │\n",
            "│        ┆                 ┆      ┆ Intl            ┆                ┆                ┆            │\n",
            "│ JFK    ┆ John F Kennedy  ┆ SFO  ┆ San Francisco   ┆ 8204           ┆ 11.952691      ┆ 12         │\n",
            "│        ┆ Intl            ┆      ┆ Intl            ┆                ┆                ┆            │\n",
            "│ LGA    ┆ La Guardia      ┆ CLT  ┆ Charlotte       ┆ 6168           ┆ 8.965321       ┆ 11         │\n",
            "│        ┆                 ┆      ┆ Douglas Intl    ┆                ┆                ┆            │\n",
            "│ EWR    ┆ Newark Liberty  ┆ ORD  ┆ Chicago Ohare   ┆ 6100           ┆ 14.644163      ┆ 16         │\n",
            "│        ┆ Intl            ┆      ┆ Intl            ┆                ┆                ┆            │\n",
            "│ JFK    ┆ John F Kennedy  ┆ BOS  ┆ General Edward  ┆ 5898           ┆ 11.694953      ┆ 13         │\n",
            "│        ┆ Intl            ┆      ┆ Lawrence Logan  ┆                ┆                ┆            │\n",
            "│        ┆                 ┆      ┆ …               ┆                ┆                ┆            │\n",
            "│ LGA    ┆ La Guardia      ┆ MIA  ┆ Miami Intl      ┆ 5781           ┆ 7.361747       ┆ 9          │\n",
            "│ JFK    ┆ John F Kennedy  ┆ MCO  ┆ Orlando Intl    ┆ 5464           ┆ 10.601583      ┆ 12         │\n",
            "│        ┆ Intl            ┆      ┆                 ┆                ┆                ┆            │\n",
            "│ EWR    ┆ Newark Liberty  ┆ BOS  ┆ General Edward  ┆ 5327           ┆ 12.54561       ┆ 14         │\n",
            "│        ┆ Intl            ┆      ┆ Lawrence Logan  ┆                ┆                ┆            │\n",
            "│        ┆                 ┆      ┆ …               ┆                ┆                ┆            │\n",
            "└────────┴─────────────────┴──────┴─────────────────┴────────────────┴────────────────┴────────────┘\n"
          ]
        }
      ],
      "source": [
        "# Write your SQL query here\n",
        "result = ctx.execute(\"\"\"\n",
        "SELECT f.origin, o.o_name, f.dest, d.d_name, COUNT(*) as Total_number_of_flights, AVG(f.dep_delay) as average_dep_delay,\n",
        "    100 * SUM(CASE WHEN f.dep_delay > 30 THEN 1 ELSE 0 END)/COUNT(*) as percentage\n",
        "FROM flights f\n",
        "JOIN (\n",
        "  SELECT name as o_name, faa\n",
        "  FROM airports\n",
        "  ) AS o ON f.origin = o.faa\n",
        "JOIN (\n",
        "  SELECT name as d_name, faa\n",
        "  FROM airports\n",
        "  ) AS d ON f.dest = d.faa\n",
        "GROUP BY f.origin, o.o_name, f.dest, d.d_name\n",
        "ORDER BY Total_number_of_flights DESC\n",
        "LIMIT 10\n",
        "\"\"\")\n",
        "\n",
        "print(result)"
      ]
    },
    {
      "cell_type": "markdown",
      "metadata": {
        "id": "rGeFwayN8UIv"
      },
      "source": [
        "## Bonus: Compare with Polars\n",
        "\n",
        "### Choose one of the queries above and implement it using Polars\n",
        "\n",
        "This will help you understand the relationship between SQL and Polars operations."
      ]
    },
    {
      "cell_type": "code",
      "execution_count": null,
      "metadata": {
        "id": "TgX-OjFn8UIv"
      },
      "outputs": [],
      "source": [
        "# Example: Let's implement Exercise 2.1 (average delay by origin) in Polars\n",
        "\n",
        "# SQL version (for reference)\n",
        "sql_result = ctx.execute(\"\"\"\n",
        "    SELECT\n",
        "        origin,\n",
        "        AVG(dep_delay) as avg_delay\n",
        "    FROM flights\n",
        "    WHERE dep_delay IS NOT NULL\n",
        "    GROUP BY origin\n",
        "    ORDER BY avg_delay DESC\n",
        "\"\"\")\n",
        "\n",
        "# Polars version\n",
        "polars_result = (\n",
        "    flights\n",
        "    .filter(pl.col('dep_delay').is_not_null())\n",
        "    .group_by('origin')\n",
        "    .agg(pl.col('dep_delay').mean().alias('avg_delay'))\n",
        "    .sort('avg_delay', descending=True)\n",
        ")\n",
        "\n",
        "print(\"SQL Result:\")\n",
        "print(sql_result)\n",
        "print(\"\\nPolars Result:\")\n",
        "print(polars_result)\n",
        "\n",
        "# Now implement one of your own queries in Polars below:\n",
        "# Your Polars code here"
      ]
    }
  ],
  "metadata": {
    "kernelspec": {
      "display_name": "Python 3",
      "language": "python",
      "name": "python3"
    },
    "language_info": {
      "codemirror_mode": {
        "name": "ipython",
        "version": 3
      },
      "file_extension": ".py",
      "mimetype": "text/x-python",
      "name": "python",
      "nbconvert_exporter": "python",
      "pygments_lexer": "ipython3",
      "version": "3.8.0"
    },
    "colab": {
      "provenance": []
    }
  },
  "nbformat": 4,
  "nbformat_minor": 0
}